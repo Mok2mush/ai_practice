{
 "cells": [
  {
   "cell_type": "markdown",
   "metadata": {},
   "source": [
    "# colab을 이용한 기계학습 실습\n",
    "\n",
    "🎯 학습 목표 : colab 환경에서 기계 학습 코드를 실행하고 결과를 확인할 수 있다.\n",
    "\n",
    "- 실습 재료\n",
    "\n",
    "| 항목 | 상세 |\n",
    "| ---- | ---- |\n",
    "| 🗂️ 데이터 | AI-HUB의 치매 고위험군 웨어러블 라이프로그 중 샘플 데이터 |\n",
    "| 🤖 기계 학습 알고리즘 | 결정 트리 (Decision Tree) |\n",
    "| 🏗️ 기계 학습 프레임워크 | Scikit-learn |\n",
    "| 🐍 프로그래밍 언어 | Python |\n",
    "| 👩‍💻 프로그래밍 환경 | Colab |\n",
    "\n",
    "\n",
    "- colab에서 코드 실행 방법은 다음 그림을 참조해주시기 바랍니다.\n",
    "    ![](https://i.imgur.com/0GoFr7q.png)"
   ]
  },
  {
   "cell_type": "markdown",
   "metadata": {},
   "source": [
    "<!-- ## 1. Colab이란?\n",
    "\n",
    "- colab은 구글에서 제공하는 온라인 기계 학습 환경 입니다.\n",
    "\n",
    "![](https://post-phinf.pstatic.net/MjAxOTEwMTVfMTE4/MDAxNTcxMTA3ODE4NTcy.KmzXuRSS3HWe4qnBR7esUkTOCPELkbi6fD0khAX8i8kg.9KgltPv7JsznlhiQVmmCxwVFBqLUI03VZaAwFwxUfHkg.JPEG/29.JPG?type=w1200)\n",
    "*(그림 출처 : [네이버 블로그](https://post.naver.com/viewer/postView.nhn?volumeNo=26447765))*\n",
    "\n",
    "- 기계 학습 코드를 작성하고, 실행할 수 있습니다.\n",
    "  - 기계 학습 코드를 작성하기 위해서 필요한 것은 웹 브라우저뿐 입니다! 지금 여러분들이 보고 계시듯이 말이죠.\n",
    "  - 실행은 구글의 데이터 센터에서 실행됩니다. -->"
   ]
  },
  {
   "cell_type": "markdown",
   "metadata": {},
   "source": [
    "### 1. 필요 라이브러리 및 함수 추가\n",
    "\n",
    "원할한 실습을 위해 필요한 데이터 변환 및 분석에 사용되는 함수를 미리 만들어 두었습니다. 😉\n",
    "\n",
    "- *(참고) 데이터 변환 및 사용되는 함수 코드는 https://github.com/taeminlee/ai_practice 에서 모두 확인 가능합니다.*\n",
    "\n",
    "실습에 앞서 아래의 코드 셀을 실행해주시기 바랍니다."
   ]
  },
  {
   "cell_type": "code",
   "execution_count": null,
   "metadata": {},
   "outputs": [],
   "source": [
    "# 이번 실습에 사용하는 데이터 및 함수를 다운로드 받습니다.\n",
    "## 참고 : 느낌표(!)로 시작하는 코드는 python이 아닌, linux 운영체제 명령어로 실행됩니다.\n",
    "!rm ai_practice -rf\n",
    "!git clone https://github.com/taeminlee/ai_practice\n",
    "# 데이터를 불러옵니다.\n",
    "## 참고 : 해당 데이터 처리 코드는 https://github.com/taeminlee/ai_practice/data_util.py 에 기록되어 있습니다.\n",
    "from ai_practice.data_util import data, Q_dict, X, Y, train_X, train_Y, test_X, test_Y\n",
    "# 분석 함수를 불러옵니다.\n",
    "## 참고 : 해당 함수 코드는 https://github.com/taeminlee/ai_practice/model_util.py 에 기록되어 있습니다.\n",
    "from ai_practice.model_util import get_graph, plot_feature_importance, get_feature_importance_table\n",
    "# 기계 학습 라이브러리를 불러옵니다.\n",
    "from sklearn.tree import DecisionTreeClassifier"
   ]
  },
  {
   "cell_type": "markdown",
   "metadata": {},
   "source": [
    "### 2. 데이터 살펴보기\n",
    "\n",
    "이번 실습에서 사용되는 데이터는 [AI-HUB의 치매 고위험군 웨어러블 라이프로그 데이터 집합](https://aihub.or.kr/aihubdata/data/view.do?currMenu=115&topMenu=100&aihubDataSe=realm&dataSetSn=226) 중 인지기능 데이터의 샘플 자료를 이용합니다.\n",
    "\n",
    "실습 데이터 집합에 대한 명세는 다음과 같습니다.\n",
    "\n",
    "- 데이터 개수 : 16개\n",
    "- 주요 항목\n",
    "  - DIAG_NM : 진단명\n",
    "    - (CN : `정상`, MCI : `경도인지장애`, Dem : `치매`)\n",
    "  - Q01 ~ Q19 : 부분 질문을 포함하여, 총 30개의 질문\n",
    "    - (정답 : `2`, 오답 : `1`)\n",
    "  - TOTAL : 총점\n",
    "    - (0 ~ 30)"
   ]
  },
  {
   "cell_type": "code",
   "execution_count": null,
   "metadata": {},
   "outputs": [],
   "source": [
    "# 데이터를 살펴보기 위해 이 코드 블록을 실행시켜 주십시오.\n",
    "data"
   ]
  },
  {
   "cell_type": "markdown",
   "metadata": {},
   "source": [
    "30개의 문항에 대한 상세 정보는 다음과 같습니다."
   ]
  },
  {
   "cell_type": "code",
   "execution_count": null,
   "metadata": {},
   "outputs": [],
   "source": [
    "# 문항 확인을 위해 이 코드 블록을 실행시켜 주십시오.\n",
    "Q_dict"
   ]
  },
  {
   "cell_type": "markdown",
   "metadata": {},
   "source": [
    "### 3. 데이터 전처리\n",
    "\n",
    "학습을 하기 위해서는 입력 값으로 쓸 부분과, 결과 값으로 쓸 부분을 나누어야 합니다.\n",
    "\n",
    "이번 실습에서는 \n",
    "- `입력 값`으로 Q01 ~ Q19의 30개의 `문항 결과`를, \n",
    "- `결과 값`으로 Diag_nm의 `진단명`으로 나누어 진행합니다."
   ]
  },
  {
   "cell_type": "code",
   "execution_count": null,
   "metadata": {},
   "outputs": [],
   "source": [
    "# 입력 값 확인을 위해 코드 블록을 실행해 주십시오.\n",
    "X"
   ]
  },
  {
   "cell_type": "code",
   "execution_count": null,
   "metadata": {},
   "outputs": [],
   "source": [
    "# 결과 값 확인을 위해 코드 블록을 실행해 주십시오.\n",
    "Y"
   ]
  },
  {
   "cell_type": "markdown",
   "metadata": {},
   "source": [
    "그리고, 학습에 쓸 데이터 집합과 테스트에 쓸 데이터 집합으로 나누어야 합니다.\n",
    "\n",
    "본 실습에서는 10번과 12번 데이터를 테스트 집합으로 사용합니다.\n",
    "-  10번이 12번에 비해 총점은 높지만, `정상`이 아닌 `경도인지장애`를 겪고 있기 때문에, 어느정도 합당한 테스트가 될 것입니다.\n",
    "\n",
    "![](https://i.imgur.com/gAMPFkY.png)"
   ]
  },
  {
   "cell_type": "code",
   "execution_count": null,
   "metadata": {},
   "outputs": [],
   "source": [
    "# 학습 데이터 집합의 입력 값 확인을 위해 코드 블록을 실행해 주십시오.\n",
    "train_X"
   ]
  },
  {
   "cell_type": "code",
   "execution_count": null,
   "metadata": {},
   "outputs": [],
   "source": [
    "# 학습 데이터 집합의 결과 값 확인을 위해 코드 블록을 실행해 주십시오.\n",
    "train_Y"
   ]
  },
  {
   "cell_type": "code",
   "execution_count": null,
   "metadata": {},
   "outputs": [],
   "source": [
    "# 테스트 데이터 집합의 입력 값 확인을 위해 코드 블록을 실행해 주십시오.\n",
    "test_X"
   ]
  },
  {
   "cell_type": "code",
   "execution_count": null,
   "metadata": {},
   "outputs": [],
   "source": [
    "# 테스트 데이터 집합의 결과 값 확인을 위해 코드 블록을 실행해 주십시오.\n",
    "test_Y"
   ]
  },
  {
   "cell_type": "markdown",
   "metadata": {},
   "source": [
    "### 4. 모델 학습\n",
    "\n",
    "본 실습에서는 결정 트리 분류기 알고리즘으로 모델을 학습할 것 입니다.\n",
    "\n",
    "결정 트리 알고리즘은 [scikit-learn](https://scikit-learn.org/) 라이브러리를 이용합니다.\n",
    "\n",
    "본 실습에서는 결정 트리를 학습할 것이므로, scikit-learn 중 tree 알고리즘 중 DecisionTreeClassifier 를 사용합니다.\n",
    "\n",
    "*(참고) 그 외 기계학습 알고리즘은 [scikit-learn 홈페이지의 user guide 페이지](https://scikit-learn.org/stable/supervised_learning.html#supervised-learning) 에서 확인 가능합니다.*\n",
    "\n",
    "scikit-learn 라이브러리에서 학습은 `.fit(X, Y)` 함수를 이용하여 쉽게 수행하도록 구성되어 있습니다.\n",
    "\n",
    "다음의 코드는 결정 트리 분류기를 생성하고, 학습하는 과정입니다."
   ]
  },
  {
   "cell_type": "code",
   "execution_count": null,
   "metadata": {},
   "outputs": [],
   "source": [
    "# scikit-learn 라이브러리에서 결정 트리 분류기를 불러옵니다.\n",
    "from sklearn.tree import DecisionTreeClassifier\n",
    "\n",
    "# 결정 트리 분류기 객체를 생성합니다.\n",
    "clf = DecisionTreeClassifier()\n",
    "# train_X 집합을 입력값, train_Y 집합을 결과값으로 모델을 학습합니다.\n",
    "clf = clf.fit(train_X,train_Y)\n",
    "# 결과 모델은 clf 변수에 저장되어 있습니다."
   ]
  },
  {
   "cell_type": "markdown",
   "metadata": {},
   "source": [
    "scikit-learn은 학습 성능 평가와 관련된 기능 역시 제공합니다.\n",
    "\n",
    "본 실습에서는 분류 모형의 일반적인 결과를 모아서 보여주는 `classification_report(pred, Y)` 함수를 이용합니다.\n",
    "\n",
    "*(참고) 그 외 평가 함수는 [scikit-learn 홈페이지의 user guide 페이지](https://scikit-learn.org/stable/modules/model_evaluation.html)에서 확인 가능합니다.*\n",
    "\n",
    "해당 함수는 `모델의 예측값(pred)`과 `정답값(Y)`의 2개의 입력 변수가 필요합니다.\n",
    "\n",
    "- 모델의 예측 값은 학습이 끝난 모델에서 `.predict(X)` 함수를 수행하여 얻을 수 있습니다.\n",
    "\n",
    "- 정답값은 데이터 집합 중 결과 값을 그대로 이용합니다.\n",
    "\n",
    "다음의 코드는 학습된 모델의 성능을 평가합니다."
   ]
  },
  {
   "cell_type": "code",
   "execution_count": null,
   "metadata": {},
   "outputs": [],
   "source": [
    "# scikit-learn 라이브러리에서 분류 모형 평가 도구를 불러옵니다.\n",
    "from sklearn.metrics import classification_report\n",
    "\n",
    "# 학습 데이터 집합에 대한 예측 값을 생성합니다.\n",
    "train_pred = clf.predict(train_X)\n",
    "\n",
    "# 학습 데이터 집합에 대한 성능 평가를 수행합니다.\n",
    "print(\"*\" * 15 + \" TRAIN DATASET REPORT \" + \"*\" * 16)\n",
    "print(classification_report(train_pred, train_Y))\n",
    "\n",
    "# 테스트 데이터 집합에 대한 예측 값을 생성합니다.\n",
    "test_pred = clf.predict(test_X)\n",
    "\n",
    "# 테스트 데이터 집합에 대한 성능 평가를 수행합니다.\n",
    "print(\"*\" * 16 + \" TEST DATASET REPORT \" + \"*\" * 16)\n",
    "print(classification_report(test_pred, test_Y))"
   ]
  },
  {
   "cell_type": "markdown",
   "metadata": {},
   "source": [
    "이상으로 본 실습을 마치도록 하겠습니다.\n",
    "\n",
    "모두들 고생 많으셨습니다!\n",
    "\n",
    "![](https://img.favpng.com/10/1/7/kakaotalk-kakao-friends-emoticon-sticker-png-favpng-mZm2vp0mk2Ce9aTUnBjC4s4DZ.jpg)"
   ]
  },
  {
   "cell_type": "markdown",
   "metadata": {},
   "source": [
    "### One more thing. 모델 분석하기\n",
    "\n",
    "일부 기계학습 모형의 경우 학습이 완료한 모형이 어떻게 구조화 되어 있는지 확인이 가능합니다.\n",
    "\n",
    "본 실습에서는 결정 트리를 시각화 하여 살펴보도록 하겠습니다."
   ]
  },
  {
   "cell_type": "code",
   "execution_count": null,
   "metadata": {},
   "outputs": [],
   "source": [
    "# 분석 함수를 불러옵니다.\n",
    "## 참고 : 해당 함수 코드는 https://github.com/taeminlee/ai_practice/model_util.py 에 기록되어 있습니다.\n",
    "from ai_practice.model_util import get_graph, plot_feature_importance, get_feature_importance_table\n",
    "\n",
    "# 결정 트리를 시각화 합니다.\n",
    "get_graph(clf)"
   ]
  },
  {
   "cell_type": "code",
   "execution_count": null,
   "metadata": {},
   "outputs": [],
   "source": [
    "# feature 중요도 그래프를 출력합니다.\n",
    "plot_feature_importance(clf)"
   ]
  },
  {
   "cell_type": "code",
   "execution_count": null,
   "metadata": {},
   "outputs": [],
   "source": [
    "# feature 중요도를 표 형식으로 살펴봅니다.\n",
    "get_feature_importance_table(clf)"
   ]
  }
 ],
 "metadata": {
  "kernelspec": {
   "display_name": "Python 3.9.5 ('base')",
   "language": "python",
   "name": "python3"
  },
  "language_info": {
   "codemirror_mode": {
    "name": "ipython",
    "version": 3
   },
   "file_extension": ".py",
   "mimetype": "text/x-python",
   "name": "python",
   "nbconvert_exporter": "python",
   "pygments_lexer": "ipython3",
   "version": "3.9.5"
  },
  "orig_nbformat": 4,
  "vscode": {
   "interpreter": {
    "hash": "9407389eff675acd1ef35f0caba8e1b00a197b7da72243212b45744c33347987"
   }
  }
 },
 "nbformat": 4,
 "nbformat_minor": 2
}
